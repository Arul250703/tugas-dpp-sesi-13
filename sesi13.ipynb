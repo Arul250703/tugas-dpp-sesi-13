{
 "cells": [
  {
   "cell_type": "markdown",
   "metadata": {},
   "source": [
    "# nama:arul maulana sidik nim:20220040044 kelas TI22F\n",
    "\n",
    "ImportError\n",
    "\n",
    "importError muncul ketika Python tidak dapat menemukan modul yang diimpor atau tidak dapat memuat modul yang diimpor. Contoh:\n",
    "\n",
    "Dalam contoh di bawah kenepa terjadi error sebab seharusnya yang di import tersebut adalah calender sehingga nantinya akan memunculkan output kalender pada bulan 12 tahun 2012 namun dalam import tersebut tidak keditek module tersebeut"
   ]
  },
  {
   "cell_type": "code",
   "execution_count": 3,
   "metadata": {},
   "outputs": [
    {
     "ename": "ModuleNotFoundError",
     "evalue": "No module named 'myarul'",
     "output_type": "error",
     "traceback": [
      "\u001b[1;31m---------------------------------------------------------------------------\u001b[0m",
      "\u001b[1;31mModuleNotFoundError\u001b[0m                       Traceback (most recent call last)",
      "\u001b[1;32m<ipython-input-3-72a9a6352a83>\u001b[0m in \u001b[0;36m<module>\u001b[1;34m\u001b[0m\n\u001b[1;32m----> 1\u001b[1;33m \u001b[1;32mimport\u001b[0m \u001b[0mmyarul\u001b[0m\u001b[1;33m\u001b[0m\u001b[1;33m\u001b[0m\u001b[0m\n\u001b[0m\u001b[0;32m      2\u001b[0m \u001b[0myy\u001b[0m \u001b[1;33m=\u001b[0m \u001b[1;36m2012\u001b[0m\u001b[1;33m\u001b[0m\u001b[1;33m\u001b[0m\u001b[0m\n\u001b[0;32m      3\u001b[0m \u001b[0mmm\u001b[0m \u001b[1;33m=\u001b[0m \u001b[1;36m12\u001b[0m\u001b[1;33m\u001b[0m\u001b[1;33m\u001b[0m\u001b[0m\n\u001b[0;32m      4\u001b[0m \u001b[1;33m\u001b[0m\u001b[0m\n\u001b[0;32m      5\u001b[0m \u001b[0mprint\u001b[0m\u001b[1;33m(\u001b[0m\u001b[0mmyHerlan\u001b[0m\u001b[1;33m.\u001b[0m\u001b[0mmonth\u001b[0m\u001b[1;33m(\u001b[0m\u001b[0myy\u001b[0m\u001b[1;33m,\u001b[0m \u001b[0mmm\u001b[0m\u001b[1;33m)\u001b[0m\u001b[1;33m)\u001b[0m\u001b[1;33m\u001b[0m\u001b[1;33m\u001b[0m\u001b[0m\n",
      "\u001b[1;31mModuleNotFoundError\u001b[0m: No module named 'myarul'"
     ]
    }
   ],
   "source": [
    "import myarul\n",
    "yy = 2012\n",
    "mm = 12\n",
    "\n",
    "print(myHerlan.month(yy, mm))"
   ]
  },
  {
   "cell_type": "markdown",
   "metadata": {},
   "source": [
    "# IOError\n",
    "\n",
    "IOError muncul ketika terjadi masalah I/O (input/output) pada saat mencoba melakukan operasi I/O, seperti membuka file, menulis ke file, dll. Contoh:\n",
    "Dalam contoh di dibawah, Python mencoba membuka file \"herlan.txt\" dengan mode \"r\" (read), tetapi file tersebut tidak ditemukan, sehingga menyebabkan IOError."
   ]
  },
  {
   "cell_type": "code",
   "execution_count": 7,
   "metadata": {},
   "outputs": [
    {
     "ename": "FileNotFoundError",
     "evalue": "[Errno 2] No such file or directory: 'arul.txt'",
     "output_type": "error",
     "traceback": [
      "\u001b[1;31m---------------------------------------------------------------------------\u001b[0m",
      "\u001b[1;31mFileNotFoundError\u001b[0m                         Traceback (most recent call last)",
      "\u001b[1;32m<ipython-input-7-204c6b645504>\u001b[0m in \u001b[0;36m<module>\u001b[1;34m\u001b[0m\n\u001b[1;32m----> 1\u001b[1;33m \u001b[0mdata\u001b[0m \u001b[1;33m=\u001b[0m \u001b[0mopen\u001b[0m\u001b[1;33m(\u001b[0m\u001b[1;34m\"arul.txt\"\u001b[0m\u001b[1;33m,\u001b[0m\u001b[1;34m'r'\u001b[0m\u001b[1;33m)\u001b[0m\u001b[1;33m\u001b[0m\u001b[1;33m\u001b[0m\u001b[0m\n\u001b[0m",
      "\u001b[1;31mFileNotFoundError\u001b[0m: [Errno 2] No such file or directory: 'arul.txt'"
     ]
    }
   ],
   "source": [
    "data = open(\"arul.txt\",'r')"
   ]
  },
  {
   "cell_type": "markdown",
   "metadata": {},
   "source": [
    "# NameError\n",
    "\n",
    "NameError muncul ketika Python tidak dapat menemukan nama yang ditentukan dalam kode. Ini dapat terjadi karena beberapa alasan, seperti:\n",
    "_Anda menulis nama yang salah atau tidak sesuai\n",
    "_Anda tidak mengimport modul yang berisi nama yang Anda panggil\n",
    "_Anda mencoba untuk mengakses variabel yang tidak didefinisikan\n",
    "contoh"
   ]
  },
  {
   "cell_type": "code",
   "execution_count": 11,
   "metadata": {},
   "outputs": [
    {
     "ename": "NameError",
     "evalue": "name 'myarul' is not defined",
     "output_type": "error",
     "traceback": [
      "\u001b[1;31m---------------------------------------------------------------------------\u001b[0m",
      "\u001b[1;31mNameError\u001b[0m                                 Traceback (most recent call last)",
      "\u001b[1;32m<ipython-input-11-418dde9df00c>\u001b[0m in \u001b[0;36m<module>\u001b[1;34m\u001b[0m\n\u001b[1;32m----> 1\u001b[1;33m \u001b[0mprint\u001b[0m\u001b[1;33m(\u001b[0m\u001b[0mmyarul\u001b[0m\u001b[1;33m)\u001b[0m\u001b[1;33m\u001b[0m\u001b[1;33m\u001b[0m\u001b[0m\n\u001b[0m",
      "\u001b[1;31mNameError\u001b[0m: name 'myarul' is not defined"
     ]
    }
   ],
   "source": [
    "print(myarul)"
   ]
  },
  {
   "cell_type": "markdown",
   "metadata": {},
   "source": [
    "Dalam contoh di atas, kita mencoba untuk mencetak nilai dari variabel myHerlan, tetapi variabel tersebut tidak pernah didefinisikan sebelumnya, sehingga Python mengeluarkan NameError"
   ]
  },
  {
   "cell_type": "markdown",
   "metadata": {},
   "source": [
    "# zeroDivisionError\n",
    "\n",
    "ZeroDivisionError muncul ketika Anda mencoba untuk membagi dengan nol (0) pada Python. Ini adalah kesalahan matematika yang tidak mungkin terjadi dalam dunia nyata dan tidak diizinkan dalam Python.\n",
    "Contoh:"
   ]
  },
  {
   "cell_type": "code",
   "execution_count": 12,
   "metadata": {},
   "outputs": [
    {
     "ename": "ZeroDivisionError",
     "evalue": "division by zero",
     "output_type": "error",
     "traceback": [
      "\u001b[1;31m---------------------------------------------------------------------------\u001b[0m",
      "\u001b[1;31mZeroDivisionError\u001b[0m                         Traceback (most recent call last)",
      "\u001b[1;32m<ipython-input-12-b097b78976dd>\u001b[0m in \u001b[0;36m<module>\u001b[1;34m\u001b[0m\n\u001b[0;32m      1\u001b[0m \u001b[0mp\u001b[0m \u001b[1;33m=\u001b[0m \u001b[1;36m10\u001b[0m\u001b[1;33m\u001b[0m\u001b[1;33m\u001b[0m\u001b[0m\n\u001b[0;32m      2\u001b[0m \u001b[0mb\u001b[0m \u001b[1;33m=\u001b[0m \u001b[1;36m0\u001b[0m\u001b[1;33m\u001b[0m\u001b[1;33m\u001b[0m\u001b[0m\n\u001b[1;32m----> 3\u001b[1;33m \u001b[0mprint\u001b[0m\u001b[1;33m(\u001b[0m\u001b[0mp\u001b[0m\u001b[1;33m/\u001b[0m\u001b[0mb\u001b[0m\u001b[1;33m)\u001b[0m\u001b[1;33m\u001b[0m\u001b[1;33m\u001b[0m\u001b[0m\n\u001b[0m",
      "\u001b[1;31mZeroDivisionError\u001b[0m: division by zero"
     ]
    }
   ],
   "source": [
    "p = 10\n",
    "b = 0\n",
    "print(p/b)"
   ]
  },
  {
   "cell_type": "markdown",
   "metadata": {},
   "source": [
    "Dalam contoh di atas kita ingin membagi variabel p dengen variabel b,yang menyebabkan ZeroDivisionError."
   ]
  },
  {
   "cell_type": "markdown",
   "metadata": {},
   "source": [
    "# 2. Exception Handling\n",
    "\n",
    "Exception handling adalah proses menangani dan menanggapi kesalahan (exception) yang mungkin terjadi pada saat program dijalankan. Ini memungkinkan program untuk terus berjalan meskipun kesalahan terjadi, sehingga program dapat menangani kesalahan secara efektif dan menghindari crash"
   ]
  },
  {
   "cell_type": "code",
   "execution_count": 14,
   "metadata": {},
   "outputs": [
    {
     "name": "stdout",
     "output_type": "stream",
     "text": [
      "Error: Could not read file\n"
     ]
    }
   ],
   "source": [
    "try:\n",
    "    f = open(\"myfile.txt\", \"r\")\n",
    "    content = f.read()\n",
    "    f.close()\n",
    "except IOError:\n",
    "    print(\"Error: Could not read file\")"
   ]
  },
  {
   "cell_type": "markdown",
   "metadata": {},
   "source": [
    "Dalam contoh ini, kita mencoba untuk membuka, membaca dan menutup file \"myfile.txt\" dalam blok try. Jika terjadi kesalahan saat mencoba untuk membuka atau membaca file (IOError), kode dalam blok except akan dieksekusi, yang mencetak pesan \"Error: Could not read file\" ke layar. Ini memungkinkan program untuk terus berjalan meskipun kesalahan terjadi saat mencoba untuk mengakses file.\n",
    "\n",
    "Selain except, kita juga bisa menggunakan else dan finally untuk menangani kesalahan. else akan dijalankan jika tidak terjadi kesalahan di dalam try block, finally akan dijalankan setelah try block selesai dijalankan, apapun hasil dari try block"
   ]
  },
  {
   "cell_type": "markdown",
   "metadata": {},
   "source": [
    "# Menangkap exception\n",
    "\n",
    "Menangkap exception adalah proses untuk menangani kesalahan yang mungkin terjadi pada saat program dijalankan. Ini dilakukan dengan menggunakan pernyataan try dan except.\n",
    "Pernyataan try digunakan untuk menempatkan kode yang mungkin menyebabkan kesalahan. Jika kesalahan terjadi, eksekusi kode akan dihentikan dan kontrol akan diteruskan ke blok except yang sesuai.\n",
    "\n",
    "Contoh:"
   ]
  },
  {
   "cell_type": "code",
   "execution_count": 15,
   "metadata": {},
   "outputs": [
    {
     "name": "stdout",
     "output_type": "stream",
     "text": [
      "Error: Cannot divide by zero\n"
     ]
    }
   ],
   "source": [
    "try:\n",
    "    result = 5 / 0\n",
    "except ZeroDivisionError:\n",
    "    print(\"Error: Cannot divide by zero\")"
   ]
  },
  {
   "cell_type": "markdown",
   "metadata": {},
   "source": [
    "Dalam contoh di atas, kita menempatkan kode yang mungkin menyebabkan kesalahan (membagi dengan nol) dalam blok try. Jika kesalahan (ZeroDivisionError) terjadi, kode dalam blok except akan dieksekusi, yang mencetak pesan \"Error: Cannot divide by zero\" ke layar. Dengan menangani kesalahan ini, program dapat terus berjalan tanpa crash.\n",
    "\n",
    "Anda juga dapat menangkap lebih dari satu jenis kesalahan dengan menggunakan lebih dari satu blok except :"
   ]
  },
  {
   "cell_type": "code",
   "execution_count": 17,
   "metadata": {},
   "outputs": [
    {
     "name": "stdout",
     "output_type": "stream",
     "text": [
      "Enter a number:  valid number\n",
      "Error: Please enter a valid number\n"
     ]
    }
   ],
   "source": [
    "try:\n",
    "    value = int(input(\"Enter a number: \"))\n",
    "    result = 5 / value\n",
    "except ValueError:\n",
    "    print(\"Error: Please enter a valid number\")\n",
    "except ZeroDivisionError:\n",
    "    print(\"Error: Cannot divide by zero\")"
   ]
  },
  {
   "cell_type": "markdown",
   "metadata": {},
   "source": [
    "Dalam contoh ini, kita mencoba untuk mengonversi input ke integer dan membagi 5 dengan nilai tersebut dalam blok try. Jika terjadi kesalahan saat mencoba untuk mengonversi input (ValueError), kode dalam blok except pertama akan dieksekusi. Jika terjadi kesalahan saat membagi dengan nol (ZeroDivisionError), kode dalam blok except kedua akan dieksekusi."
   ]
  }
 ],
 "metadata": {
  "kernelspec": {
   "display_name": "Python 3",
   "language": "python",
   "name": "python3"
  },
  "language_info": {
   "codemirror_mode": {
    "name": "ipython",
    "version": 3
   },
   "file_extension": ".py",
   "mimetype": "text/x-python",
   "name": "python",
   "nbconvert_exporter": "python",
   "pygments_lexer": "ipython3",
   "version": "3.8.5"
  }
 },
 "nbformat": 4,
 "nbformat_minor": 4
}
